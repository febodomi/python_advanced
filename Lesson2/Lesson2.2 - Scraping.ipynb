{
 "cells": [
  {
   "cell_type": "code",
   "execution_count": 47,
   "metadata": {},
   "outputs": [],
   "source": [
    "from urllib.request import urlopen\n",
    "import bs4\n",
    "import re"
   ]
  },
  {
   "cell_type": "code",
   "execution_count": 48,
   "metadata": {},
   "outputs": [
    {
     "name": "stdout",
     "output_type": "stream",
     "text": [
      "\n",
      "                    Page 1 of 75,487 jobs\n"
     ]
    }
   ],
   "source": [
    "url='https://www.indeed.com/jobs?q=analyst&l='\n",
    "source = urlopen(url).read().decode('utf-8')\n",
    "bsource=bs4.BeautifulSoup(source, \"lxml\")\n",
    "tag=bsource.find(\"div\", {\"id\": \"searchCountPages\"})\n",
    "print(tag.string)"
   ]
  },
  {
   "cell_type": "markdown",
   "metadata": {},
   "source": [
    "https://www.w3schools.com/python/python_regex.asp"
   ]
  },
  {
   "cell_type": "code",
   "execution_count": 3,
   "metadata": {},
   "outputs": [
    {
     "data": {
      "text/plain": [
       "<re.Match object; span=(38, 42), match='jobs'>"
      ]
     },
     "execution_count": 3,
     "metadata": {},
     "output_type": "execute_result"
    }
   ],
   "source": [
    "re.search(\"jobs$\", tag.string)"
   ]
  },
  {
   "cell_type": "code",
   "execution_count": 4,
   "metadata": {},
   "outputs": [],
   "source": [
    "def talalatok():\n",
    "    x = re.search(\"\\d*,?\\d* jobs$\", tag.string)\n",
    "    return int(x.group()[:-5].replace(',',''))"
   ]
  },
  {
   "cell_type": "code",
   "execution_count": 5,
   "metadata": {},
   "outputs": [
    {
     "data": {
      "text/plain": [
       "75536"
      ]
     },
     "execution_count": 5,
     "metadata": {},
     "output_type": "execute_result"
    }
   ],
   "source": [
    "talalatok()"
   ]
  },
  {
   "cell_type": "code",
   "execution_count": 18,
   "metadata": {},
   "outputs": [],
   "source": [
    "def talalatok_string0(job):\n",
    "    url='http://www.indeed.com/jobs?q='+job+'&l='\n",
    "    source = urlopen(url).read().decode('utf-8')\n",
    "    bsource=bs4.BeautifulSoup(source, \"lxml\")\n",
    "    tag=bsource.find(\"div\", {\"id\": \"searchCountPages\"})\n",
    "    x = re.search(\"\\d*,?\\d* jobs$\", tag.string)\n",
    "    return int(x.group()[:-5].replace(',',''))"
   ]
  },
  {
   "cell_type": "code",
   "execution_count": 19,
   "metadata": {},
   "outputs": [
    {
     "data": {
      "text/plain": [
       "87298"
      ]
     },
     "execution_count": 19,
     "metadata": {},
     "output_type": "execute_result"
    }
   ],
   "source": [
    "talalatok_string0('python')"
   ]
  },
  {
   "cell_type": "code",
   "execution_count": 20,
   "metadata": {},
   "outputs": [],
   "source": [
    "# talalatok_string('python analyst')"
   ]
  },
  {
   "cell_type": "code",
   "execution_count": 21,
   "metadata": {},
   "outputs": [],
   "source": [
    "def talalatok_string(job):\n",
    "    job=job.replace(' ','+')\n",
    "    url='http://www.indeed.com/jobs?q='+job+'&l='\n",
    "    source = urlopen(url).read().decode('utf-8')\n",
    "    bsource=bs4.BeautifulSoup(source, \"lxml\")\n",
    "    tag=bsource.find(\"div\", {\"id\": \"searchCountPages\"})\n",
    "    x = re.search(\"\\d*,?\\d* jobs$\", tag.string)\n",
    "    return int(x.group()[:-5].replace(',',''))"
   ]
  },
  {
   "cell_type": "code",
   "execution_count": 22,
   "metadata": {},
   "outputs": [
    {
     "data": {
      "text/plain": [
       "6758"
      ]
     },
     "execution_count": 22,
     "metadata": {},
     "output_type": "execute_result"
    }
   ],
   "source": [
    "talalatok_string('python analyst')"
   ]
  },
  {
   "cell_type": "code",
   "execution_count": 23,
   "metadata": {},
   "outputs": [
    {
     "name": "stdout",
     "output_type": "stream",
     "text": [
      "python developer :  31602\n",
      "R developer :  2728\n"
     ]
    }
   ],
   "source": [
    "#jobs=['python developer', 'R developer', 'Java developer', 'financial analyst', 'finncial advisor', 'python']\n",
    "jobs=['python developer', 'R developer']\n",
    "for job in (jobs):\n",
    "    print(job, ': ', talalatok_string(job))"
   ]
  },
  {
   "cell_type": "code",
   "execution_count": 24,
   "metadata": {},
   "outputs": [],
   "source": [
    "url='https://www.indeed.com/jobs?q=financial+analyst&l='\n",
    "source = urlopen(url).read().decode('utf-8')\n",
    "bsource=bs4.BeautifulSoup(source, \"lxml\")"
   ]
  },
  {
   "cell_type": "code",
   "execution_count": 25,
   "metadata": {},
   "outputs": [],
   "source": [
    "locations=bsource.findAll(\"span\", {\"class\":\"location accessible-contrast-color-location\"})"
   ]
  },
  {
   "cell_type": "code",
   "execution_count": 26,
   "metadata": {},
   "outputs": [
    {
     "data": {
      "text/plain": [
       "['Remote',\n",
       " 'Remote',\n",
       " 'Hinckley, MN 55037',\n",
       " 'Culver City, CA',\n",
       " 'Goodlettsville, TN 37072',\n",
       " 'Remote',\n",
       " 'Boston, MA 02109 (Haymarket area)',\n",
       " 'Marietta, GA 30060',\n",
       " 'New York, NY',\n",
       " 'San Francisco, CA',\n",
       " 'Rochester, MI',\n",
       " 'Holyoke, MA 01040',\n",
       " 'Downey, CA',\n",
       " 'San Diego, CA 92108',\n",
       " 'Atlanta, GA 30309 (Brookwood Hills area)']"
      ]
     },
     "execution_count": 26,
     "metadata": {},
     "output_type": "execute_result"
    }
   ],
   "source": [
    "locations_string=[job.text for job in locations]\n",
    "locations_string"
   ]
  },
  {
   "cell_type": "code",
   "execution_count": 27,
   "metadata": {},
   "outputs": [
    {
     "data": {
      "text/plain": [
       "'Goodlettsville'"
      ]
     },
     "execution_count": 27,
     "metadata": {},
     "output_type": "execute_result"
    }
   ],
   "source": [
    "re.search('^[a-zA-Z ]*',locations_string[4]).group()"
   ]
  },
  {
   "cell_type": "code",
   "execution_count": 28,
   "metadata": {},
   "outputs": [],
   "source": [
    "cities=[re.search('^[a-zA-Z ]*',i).group() for i in locations_string]"
   ]
  },
  {
   "cell_type": "code",
   "execution_count": 29,
   "metadata": {},
   "outputs": [
    {
     "data": {
      "text/plain": [
       "['Remote',\n",
       " 'Remote',\n",
       " 'Hinckley',\n",
       " 'Culver City',\n",
       " 'Goodlettsville',\n",
       " 'Remote',\n",
       " 'Boston',\n",
       " 'Marietta',\n",
       " 'New York',\n",
       " 'San Francisco',\n",
       " 'Rochester',\n",
       " 'Holyoke',\n",
       " 'Downey',\n",
       " 'San Diego',\n",
       " 'Atlanta']"
      ]
     },
     "execution_count": 29,
     "metadata": {},
     "output_type": "execute_result"
    }
   ],
   "source": [
    "cities"
   ]
  },
  {
   "cell_type": "code",
   "execution_count": 30,
   "metadata": {},
   "outputs": [
    {
     "name": "stdout",
     "output_type": "stream",
     "text": [
      "10\n",
      "20\n",
      "30\n",
      "40\n",
      "50\n",
      "60\n",
      "70\n",
      "80\n",
      "90\n"
     ]
    }
   ],
   "source": [
    "for i in range(10,100,10):\n",
    "    print(i)"
   ]
  },
  {
   "cell_type": "code",
   "execution_count": null,
   "metadata": {},
   "outputs": [],
   "source": [
    "# 3. oldal\n",
    "url2='https://www.indeed.com/jobs?q=financial+analyst&start=20'"
   ]
  },
  {
   "cell_type": "code",
   "execution_count": 31,
   "metadata": {},
   "outputs": [],
   "source": [
    "for i in range(1,3):\n",
    "    url='https://www.indeed.com/jobs?q=financial+analyst&start='+str(i)\n",
    "    source = urlopen(url).read().decode('utf-8')\n",
    "    bsource=bs4.BeautifulSoup(source, \"lxml\")\n",
    "    locations=bsource.findAll(\"span\", {\"class\":\"location accessible-contrast-color-location\"})\n",
    "    locations_string=[job.text for job in locations]\n",
    "    new_cities=[re.search('^[a-zA-Z ]*',i).group() for i in locations_string]\n",
    "    cities+=new_cities"
   ]
  },
  {
   "cell_type": "code",
   "execution_count": 32,
   "metadata": {},
   "outputs": [
    {
     "data": {
      "text/plain": [
       "['Remote',\n",
       " 'Remote',\n",
       " 'Hinckley',\n",
       " 'Culver City',\n",
       " 'Goodlettsville',\n",
       " 'Remote',\n",
       " 'Boston',\n",
       " 'Marietta',\n",
       " 'New York',\n",
       " 'San Francisco',\n",
       " 'Rochester',\n",
       " 'Holyoke',\n",
       " 'Downey',\n",
       " 'San Diego',\n",
       " 'Atlanta',\n",
       " 'San Jose',\n",
       " 'Friendswood',\n",
       " 'Clanton',\n",
       " 'Virginia Beach',\n",
       " 'Camp Hill',\n",
       " 'Santa Clara Valley',\n",
       " 'Remote',\n",
       " 'Remote',\n",
       " 'Boston',\n",
       " 'Littleton',\n",
       " 'Union City',\n",
       " 'Tucson',\n",
       " 'Washington',\n",
       " 'Burbank',\n",
       " 'El Dorado Hills',\n",
       " 'San Jose',\n",
       " 'Friendswood',\n",
       " 'Clanton',\n",
       " 'Virginia Beach',\n",
       " 'Camp Hill',\n",
       " 'Santa Clara Valley',\n",
       " 'Remote',\n",
       " 'Remote',\n",
       " 'Boston',\n",
       " 'Littleton',\n",
       " 'Union City',\n",
       " 'Tucson',\n",
       " 'Washington',\n",
       " 'Burbank',\n",
       " 'El Dorado Hills']"
      ]
     },
     "execution_count": 32,
     "metadata": {},
     "output_type": "execute_result"
    }
   ],
   "source": [
    "cities"
   ]
  },
  {
   "cell_type": "code",
   "execution_count": 33,
   "metadata": {},
   "outputs": [
    {
     "data": {
      "text/plain": [
       "45"
      ]
     },
     "execution_count": 33,
     "metadata": {},
     "output_type": "execute_result"
    }
   ],
   "source": [
    "len(cities)"
   ]
  },
  {
   "cell_type": "code",
   "execution_count": 34,
   "metadata": {},
   "outputs": [],
   "source": [
    "from collections import Counter"
   ]
  },
  {
   "cell_type": "code",
   "execution_count": 35,
   "metadata": {},
   "outputs": [
    {
     "data": {
      "text/plain": [
       "7"
      ]
     },
     "execution_count": 35,
     "metadata": {},
     "output_type": "execute_result"
    }
   ],
   "source": [
    "Counter(cities)['Remote']"
   ]
  },
  {
   "cell_type": "code",
   "execution_count": 36,
   "metadata": {},
   "outputs": [
    {
     "data": {
      "text/plain": [
       "[(7, 'Remote'),\n",
       " (3, 'Boston'),\n",
       " (2, 'Washington'),\n",
       " (2, 'Virginia Beach'),\n",
       " (2, 'Union City'),\n",
       " (2, 'Tucson'),\n",
       " (2, 'Santa Clara Valley'),\n",
       " (2, 'San Jose'),\n",
       " (2, 'Littleton'),\n",
       " (2, 'Friendswood'),\n",
       " (2, 'El Dorado Hills'),\n",
       " (2, 'Clanton'),\n",
       " (2, 'Camp Hill'),\n",
       " (2, 'Burbank'),\n",
       " (1, 'San Francisco'),\n",
       " (1, 'San Diego'),\n",
       " (1, 'Rochester'),\n",
       " (1, 'New York'),\n",
       " (1, 'Marietta'),\n",
       " (1, 'Holyoke'),\n",
       " (1, 'Hinckley'),\n",
       " (1, 'Goodlettsville'),\n",
       " (1, 'Downey'),\n",
       " (1, 'Culver City'),\n",
       " (1, 'Atlanta')]"
      ]
     },
     "execution_count": 36,
     "metadata": {},
     "output_type": "execute_result"
    }
   ],
   "source": [
    "sorted([(value,key) for (key,value) in Counter(cities).items()], reverse=True)"
   ]
  },
  {
   "cell_type": "code",
   "execution_count": 37,
   "metadata": {},
   "outputs": [
    {
     "data": {
      "text/plain": [
       "'http://www.indeed.com/jobs?q=financial+analyst&start=20'"
      ]
     },
     "execution_count": 37,
     "metadata": {},
     "output_type": "execute_result"
    }
   ],
   "source": [
    "def generate_url(job, site_nr):\n",
    "    job_link=job.replace(' ','+')\n",
    "    if site_nr==1:\n",
    "        url='http://www.indeed.com/jobs?q='+job_link+'&l='\n",
    "        return url\n",
    "    else:\n",
    "        url='http://www.indeed.com/jobs?q='+job_link+'&start='+str(site_nr*10-10)\n",
    "        return url\n",
    "    \n",
    "generate_url('financial analyst',3)"
   ]
  },
  {
   "cell_type": "code",
   "execution_count": 38,
   "metadata": {},
   "outputs": [],
   "source": [
    "def get_cities(page):\n",
    "    url=page\n",
    "    source = urlopen(url).read().decode('utf-8')\n",
    "    bsource=bs4.BeautifulSoup(source, \"lxml\")\n",
    "    locations=bsource.findAll(\"span\", {\"class\":\"location accessible-contrast-color-location\"})\n",
    "    \n",
    "    locations_string=[job.text for job in locations]\n",
    "    cities=[re.search('^[a-zA-Z ]*',i).group() for i in locations_string]\n",
    "    return cities"
   ]
  },
  {
   "cell_type": "code",
   "execution_count": 39,
   "metadata": {},
   "outputs": [
    {
     "data": {
      "text/plain": [
       "4"
      ]
     },
     "execution_count": 39,
     "metadata": {},
     "output_type": "execute_result"
    }
   ],
   "source": [
    "cities=[]\n",
    "for i in range(1,2):\n",
    "    cities+=get_cities(generate_url('python developer',i))\n",
    "Counter(cities)['Remote']"
   ]
  },
  {
   "cell_type": "code",
   "execution_count": 40,
   "metadata": {},
   "outputs": [],
   "source": [
    "jobs=['python developer', 'R developer', 'Java developer', 'financial analyst', 'finncial advisor', 'python']"
   ]
  },
  {
   "cell_type": "code",
   "execution_count": 41,
   "metadata": {},
   "outputs": [],
   "source": [
    "remote_jobs={}\n",
    "remote_jobs_rate={}\n",
    "for job in jobs:\n",
    "    cities=[]\n",
    "    for i in range(1,2):\n",
    "        cities+=get_cities(generate_url('python developer',i))\n",
    "    remote_jobs[job]=Counter(cities)['Remote']\n",
    "    remote_jobs_rate[job]=int(Counter(cities)['Remote'])/150"
   ]
  },
  {
   "cell_type": "code",
   "execution_count": 42,
   "metadata": {},
   "outputs": [
    {
     "data": {
      "text/plain": [
       "{'python developer': 7,\n",
       " 'R developer': 6,\n",
       " 'Java developer': 7,\n",
       " 'financial analyst': 6,\n",
       " 'finncial advisor': 7,\n",
       " 'python': 7}"
      ]
     },
     "execution_count": 42,
     "metadata": {},
     "output_type": "execute_result"
    }
   ],
   "source": [
    "remote_jobs"
   ]
  },
  {
   "cell_type": "code",
   "execution_count": 46,
   "metadata": {},
   "outputs": [
    {
     "data": {
      "text/plain": [
       "{'python developer': 0.04666666666666667,\n",
       " 'R developer': 0.04,\n",
       " 'Java developer': 0.04666666666666667,\n",
       " 'financial analyst': 0.04,\n",
       " 'finncial advisor': 0.04666666666666667,\n",
       " 'python': 0.04666666666666667}"
      ]
     },
     "execution_count": 46,
     "metadata": {},
     "output_type": "execute_result"
    }
   ],
   "source": [
    "remote_jobs_rate"
   ]
  },
  {
   "cell_type": "code",
   "execution_count": 44,
   "metadata": {},
   "outputs": [
    {
     "data": {
      "text/plain": [
       "([<matplotlib.axis.XTick at 0x1b823c79448>,\n",
       "  <matplotlib.axis.XTick at 0x1b823c713c8>,\n",
       "  <matplotlib.axis.XTick at 0x1b823c712c8>,\n",
       "  <matplotlib.axis.XTick at 0x1b824a58b08>,\n",
       "  <matplotlib.axis.XTick at 0x1b824a23108>,\n",
       "  <matplotlib.axis.XTick at 0x1b824a23a88>],\n",
       " <a list of 6 Text xticklabel objects>)"
      ]
     },
     "execution_count": 44,
     "metadata": {},
     "output_type": "execute_result"
    },
    {
     "data": {
      "image/png": "[encoded data removed]",
      "text/plain": [
       "<Figure size 1440x720 with 1 Axes>"
      ]
     },
     "metadata": {
      "needs_background": "light"
     },
     "output_type": "display_data"
    }
   ],
   "source": [
    "import matplotlib.pyplot as plt\n",
    "%matplotlib inline\n",
    "\n",
    "plt.figure(figsize=(20,10))\n",
    "plt.style.use('ggplot')\n",
    "\n",
    "plt.xlabel('Job Name')  \n",
    "plt.ylabel('Remote Jobs')  \n",
    "\n",
    "plt.title(\"Percentage of available remote jobs\") \n",
    "\n",
    "plt.bar(range(len(remote_jobs)), list(remote_jobs.values()), align='center')\n",
    "plt.xticks(range(len(remote_jobs)), list(remote_jobs.keys()))"
   ]
  }
 ],
 "metadata": {
  "kernelspec": {
   "display_name": "Python 3",
   "language": "python",
   "name": "python3"
  },
  "language_info": {
   "codemirror_mode": {
    "name": "ipython",
    "version": 3
   },
   "file_extension": ".py",
   "mimetype": "text/x-python",
   "name": "python",
   "nbconvert_exporter": "python",
   "pygments_lexer": "ipython3",
   "version": "3.7.4"
  }
 },
 "nbformat": 4,
 "nbformat_minor": 2
}
