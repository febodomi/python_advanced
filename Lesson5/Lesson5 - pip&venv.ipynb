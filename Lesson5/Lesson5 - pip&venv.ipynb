{
 "cells": [
  {
   "cell_type": "raw",
   "metadata": {},
   "source": [
    "pip help\n",
    "python\n",
    "\n",
    "- Pip telepítése\n",
    "curl https://bootstrap.pypa.io/get-pip.py -o get-pip.py\n",
    "-->run as admincmdistrator\n",
    "python get-pip.py\n",
    "python -m pip install --upgrade pip\n",
    "\n",
    "- Virtualenv telepítése\n",
    "https://pypi.org/project/virtualenv/\n",
    "pip install virtualenv\n",
    "\n",
    "\n",
    "- Virtualenv létrehozása és aktiválása\n",
    "cd Users\\Domonkos\\Documents\\PythonProjects\\Python_halado_2021_tavasz\\Lesson5\n",
    "virtualenv test_environment\n",
    "(python -m venv my_test_env)\n",
    "cd test_environment\\Scripts\n",
    "activate\n",
    "deactivate\n",
    "\n",
    "- Csomagok telepítése, és telepített csomagok listázása\n",
    "python -m pip install SomePackage            # latest version\n",
    "python -m pip install SomePackage==1.0.4     # specific version\n",
    "python -m pip install 'SomePackage>=1.0.4'     # minimum version\n",
    "\n",
    "pip install pandas\n",
    "pip freeze\n",
    "pip freeze > requirements.txt\n",
    "pip install -r requirements.txt\n",
    "https://pip.pypa.io/en/stable/reference/pip_install/#install-requirement\n",
    "\n",
    "- Virtualenv hozzáadása a Jupyter Notebookhoz\n",
    "pip install ipykernel\n",
    "python -m ipykernel install --name=test_environment\n",
    "\n",
    "- Virtualenv törlése a Jupyter Notebookbol\n",
    "jupyter kernelspec list\n",
    "jupyter kernelspec uninstall test_environment\n",
    "jupyter kernelspec list\n",
    "\n",
    "- Virtualenv váltás"
   ]
  },
  {
   "cell_type": "code",
   "execution_count": null,
   "metadata": {},
   "outputs": [],
   "source": []
  }
 ],
 "metadata": {
  "kernelspec": {
   "display_name": "Python 3",
   "language": "python",
   "name": "python3"
  },
  "language_info": {
   "codemirror_mode": {
    "name": "ipython",
    "version": 3
   },
   "file_extension": ".py",
   "mimetype": "text/x-python",
   "name": "python",
   "nbconvert_exporter": "python",
   "pygments_lexer": "ipython3",
   "version": "3.7.4"
  }
 },
 "nbformat": 4,
 "nbformat_minor": 2
}
