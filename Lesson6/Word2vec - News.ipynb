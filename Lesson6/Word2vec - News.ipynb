{
 "cells": [
  {
   "cell_type": "code",
   "execution_count": 1,
   "metadata": {},
   "outputs": [],
   "source": [
    "# !pip install python-Levenshtein\n",
    "# conda install -c conda-forge python-levenshtein\n",
    "# https://en.wikipedia.org/wiki/Levenshtein_distance"
   ]
  },
  {
   "cell_type": "code",
   "execution_count": 2,
   "metadata": {},
   "outputs": [],
   "source": [
    "import pandas as pd\n",
    "import re\n",
    "from gensim.models import Word2Vec\n",
    "from gensim.models import KeyedVectors\n",
    "import gensim.downloader\n",
    "import numpy as np\n",
    "import matplotlib.pyplot as plt\n",
    "\n",
    "# https://radimrehurek.com/gensim/models/word2vec.html\n",
    "# https://www.kaggle.com/jeongbinpark/word2vec-basic-of-nlp"
   ]
  },
  {
   "cell_type": "code",
   "execution_count": 3,
   "metadata": {},
   "outputs": [],
   "source": [
    "normalized_text=[['AZ', 'ALMA', 'NEM', 'ESIK','MESSZE', 'A', 'FAJATOL'],['AZ', 'ALMA', 'VAGY', 'ALMAFA', 'A', 'ROZSAFELEK', 'CSALADJABA', 'TARTOZO', 'NOVENYNEMZETSEG']]"
   ]
  },
  {
   "cell_type": "code",
   "execution_count": 4,
   "metadata": {},
   "outputs": [],
   "source": [
    "model = Word2Vec(sentences=normalized_text, vector_size=2, min_count=1)"
   ]
  },
  {
   "cell_type": "code",
   "execution_count": 5,
   "metadata": {},
   "outputs": [
    {
     "data": {
      "text/plain": [
       "array([0.25519115, 0.45050585], dtype=float32)"
      ]
     },
     "execution_count": 5,
     "metadata": {},
     "output_type": "execute_result"
    }
   ],
   "source": [
    "model.wv['ALMA']"
   ]
  },
  {
   "cell_type": "code",
   "execution_count": 6,
   "metadata": {},
   "outputs": [
    {
     "data": {
      "text/plain": [
       "[('NOVENYNEMZETSEG', 0.9941185116767883),\n",
       " ('MESSZE', 0.9008386731147766),\n",
       " ('VAGY', 0.7495834231376648),\n",
       " ('ESIK', 0.5873665809631348),\n",
       " ('ROZSAFELEK', 0.43491703271865845),\n",
       " ('CSALADJABA', 0.30556321144104004),\n",
       " ('NEM', 0.023197591304779053),\n",
       " ('A', -0.10088382661342621),\n",
       " ('ALMAFA', -0.7660549283027649),\n",
       " ('TARTOZO', -0.9164511561393738)]"
      ]
     },
     "execution_count": 6,
     "metadata": {},
     "output_type": "execute_result"
    }
   ],
   "source": [
    "model.wv.most_similar('ALMA')"
   ]
  },
  {
   "cell_type": "code",
   "execution_count": 7,
   "metadata": {},
   "outputs": [
    {
     "data": {
      "image/png": "[encoded data removed]",
      "text/plain": [
       "<Figure size 432x288 with 1 Axes>"
      ]
     },
     "metadata": {
      "needs_background": "light"
     },
     "output_type": "display_data"
    }
   ],
   "source": [
    "import matplotlib.pyplot as plt\n",
    "import numpy as np\n",
    "\n",
    "ax = plt.axes()\n",
    "\n",
    "ax.arrow(0.0, 0.0, model.wv['ALMA'][0], model.wv['ALMA'][1], head_width=0.1, head_length=0.1, fc='lightblue', ec='black')\n",
    "ax.arrow(0.0, 0.0, model.wv['ESIK'][0], model.wv['ESIK'][1], head_width=0.1, head_length=0.1, fc='lightblue', ec='black')\n",
    "ax.arrow(0.0, 0.0, model.wv['ROZSAFELEK'][0], model.wv['ROZSAFELEK'][1], head_width=0.1, head_length=0.1, fc='lightblue', ec='black')\n",
    "plt.grid()\n",
    "\n",
    "plt.xlim(-1,1)\n",
    "plt.ylim(-1,1)\n",
    "\n",
    "\n",
    "plt.show()\n",
    "plt.close()"
   ]
  },
  {
   "cell_type": "markdown",
   "metadata": {},
   "source": [
    "## Prepare data"
   ]
  },
  {
   "cell_type": "code",
   "execution_count": 8,
   "metadata": {},
   "outputs": [
    {
     "data": {
      "text/html": [
       "<div>\n",
       "<style scoped>\n",
       "    .dataframe tbody tr th:only-of-type {\n",
       "        vertical-align: middle;\n",
       "    }\n",
       "\n",
       "    .dataframe tbody tr th {\n",
       "        vertical-align: top;\n",
       "    }\n",
       "\n",
       "    .dataframe thead th {\n",
       "        text-align: right;\n",
       "    }\n",
       "</style>\n",
       "<table border=\"1\" class=\"dataframe\">\n",
       "  <thead>\n",
       "    <tr style=\"text-align: right;\">\n",
       "      <th></th>\n",
       "      <th>title</th>\n",
       "      <th>text</th>\n",
       "      <th>subject</th>\n",
       "      <th>date</th>\n",
       "    </tr>\n",
       "  </thead>\n",
       "  <tbody>\n",
       "    <tr>\n",
       "      <td>0</td>\n",
       "      <td>As U.S. budget fight looms, Republicans flip t...</td>\n",
       "      <td>WASHINGTON (Reuters) - The head of a conservat...</td>\n",
       "      <td>politicsNews</td>\n",
       "      <td>December 31, 2017</td>\n",
       "    </tr>\n",
       "    <tr>\n",
       "      <td>1</td>\n",
       "      <td>U.S. military to accept transgender recruits o...</td>\n",
       "      <td>WASHINGTON (Reuters) - Transgender people will...</td>\n",
       "      <td>politicsNews</td>\n",
       "      <td>December 29, 2017</td>\n",
       "    </tr>\n",
       "    <tr>\n",
       "      <td>2</td>\n",
       "      <td>Senior U.S. Republican senator: 'Let Mr. Muell...</td>\n",
       "      <td>WASHINGTON (Reuters) - The special counsel inv...</td>\n",
       "      <td>politicsNews</td>\n",
       "      <td>December 31, 2017</td>\n",
       "    </tr>\n",
       "    <tr>\n",
       "      <td>3</td>\n",
       "      <td>FBI Russia probe helped by Australian diplomat...</td>\n",
       "      <td>WASHINGTON (Reuters) - Trump campaign adviser ...</td>\n",
       "      <td>politicsNews</td>\n",
       "      <td>December 30, 2017</td>\n",
       "    </tr>\n",
       "    <tr>\n",
       "      <td>4</td>\n",
       "      <td>Trump wants Postal Service to charge 'much mor...</td>\n",
       "      <td>SEATTLE/WASHINGTON (Reuters) - President Donal...</td>\n",
       "      <td>politicsNews</td>\n",
       "      <td>December 29, 2017</td>\n",
       "    </tr>\n",
       "  </tbody>\n",
       "</table>\n",
       "</div>"
      ],
      "text/plain": [
       "                                               title  \\\n",
       "0  As U.S. budget fight looms, Republicans flip t...   \n",
       "1  U.S. military to accept transgender recruits o...   \n",
       "2  Senior U.S. Republican senator: 'Let Mr. Muell...   \n",
       "3  FBI Russia probe helped by Australian diplomat...   \n",
       "4  Trump wants Postal Service to charge 'much mor...   \n",
       "\n",
       "                                                text       subject  \\\n",
       "0  WASHINGTON (Reuters) - The head of a conservat...  politicsNews   \n",
       "1  WASHINGTON (Reuters) - Transgender people will...  politicsNews   \n",
       "2  WASHINGTON (Reuters) - The special counsel inv...  politicsNews   \n",
       "3  WASHINGTON (Reuters) - Trump campaign adviser ...  politicsNews   \n",
       "4  SEATTLE/WASHINGTON (Reuters) - President Donal...  politicsNews   \n",
       "\n",
       "                 date  \n",
       "0  December 31, 2017   \n",
       "1  December 29, 2017   \n",
       "2  December 31, 2017   \n",
       "3  December 30, 2017   \n",
       "4  December 29, 2017   "
      ]
     },
     "execution_count": 8,
     "metadata": {},
     "output_type": "execute_result"
    }
   ],
   "source": [
    "data=pd.read_csv(\"True.csv\")\n",
    "data.head()"
   ]
  },
  {
   "cell_type": "code",
   "execution_count": 9,
   "metadata": {},
   "outputs": [
    {
     "data": {
      "text/plain": [
       "0    WASHINGTON (Reuters) - The head of a conservat...\n",
       "1    WASHINGTON (Reuters) - Transgender people will...\n",
       "2    WASHINGTON (Reuters) - The special counsel inv...\n",
       "3    WASHINGTON (Reuters) - Trump campaign adviser ...\n",
       "4    SEATTLE/WASHINGTON (Reuters) - President Donal...\n",
       "Name: text, dtype: object"
      ]
     },
     "execution_count": 9,
     "metadata": {},
     "output_type": "execute_result"
    }
   ],
   "source": [
    "data = data['text']\n",
    "data.head()"
   ]
  },
  {
   "cell_type": "code",
   "execution_count": 10,
   "metadata": {},
   "outputs": [
    {
     "name": "stdout",
     "output_type": "stream",
     "text": [
      "Wall time: 4.14 s\n"
     ]
    }
   ],
   "source": [
    "%%time\n",
    "normalized_text = []\n",
    "for i in data:\n",
    "    i = i.upper()\n",
    "    i = re.sub('[-=+,#/\\?:^$.@*\\\"※~&%ㆍ!』\\\\‘|\\(\\)\\[\\]\\<\\>`\\'…》]', '', i)\n",
    "    normalized_text.append(i.split(' '))\n",
    "    \n",
    "# https://docs.python.org/3/library/re.html"
   ]
  },
  {
   "cell_type": "code",
   "execution_count": 11,
   "metadata": {},
   "outputs": [
    {
     "name": "stdout",
     "output_type": "stream",
     "text": [
      "21417\n",
      "753\n",
      "['WASHINGTON', 'REUTERS', '', 'THE', 'HEAD', 'OF', 'A', 'CONSERVATIVE', 'REPUBLICAN', 'FACTION', 'IN', 'THE', 'US', 'CONGRESS', 'WHO', 'VOTED', 'THIS', 'MONTH', 'FOR', 'A', 'HUGE', 'EXPANSION', 'OF', 'THE', 'NATIONAL', 'DEBT', 'TO', 'PAY', 'FOR', 'TAX', 'CUTS', 'CALLED', 'HIMSELF', 'A', '“FISCAL', 'CONSERVATIVE”', 'ON', 'SUNDAY', 'AND', 'URGED', 'BUDGET', 'RESTRAINT', 'IN', '2018', 'IN', 'KEEPING', 'WITH', 'A', 'SHARP', 'PIVOT', 'UNDER', 'WAY', 'AMONG', 'REPUBLICANS', 'US', 'REPRESENTATIVE', 'MARK', 'MEADOWS', 'SPEAKING', 'ON', 'CBS’', '“FACE', 'THE', 'NATION”', 'DREW', 'A', 'HARD', 'LINE', 'ON', 'FEDERAL', 'SPENDING', 'WHICH', 'LAWMAKERS', 'ARE', 'BRACING', 'TO', 'DO', 'BATTLE', 'OVER', 'IN', 'JANUARY', 'WHEN', 'THEY', 'RETURN', 'FROM', 'THE', 'HOLIDAYS', 'ON', 'WEDNESDAY', 'LAWMAKERS', 'WILL', 'BEGIN', 'TRYING', 'TO', 'PASS', 'A', 'FEDERAL', 'BUDGET', 'IN', 'A', 'FIGHT', 'LIKELY', 'TO', 'BE', 'LINKED', 'TO', 'OTHER', 'ISSUES', 'SUCH', 'AS', 'IMMIGRATION', 'POLICY', 'EVEN', 'AS', 'THE', 'NOVEMBER', 'CONGRESSIONAL', 'ELECTION', 'CAMPAIGNS', 'APPROACH', 'IN', 'WHICH', 'REPUBLICANS', 'WILL', 'SEEK', 'TO', 'KEEP', 'CONTROL', 'OF', 'CONGRESS', 'PRESIDENT', 'DONALD', 'TRUMP', 'AND', 'HIS', 'REPUBLICANS', 'WANT', 'A', 'BIG', 'BUDGET', 'INCREASE', 'IN', 'MILITARY', 'SPENDING', 'WHILE', 'DEMOCRATS', 'ALSO', 'WANT', 'PROPORTIONAL', 'INCREASES', 'FOR', 'NONDEFENSE', '“DISCRETIONARY”', 'SPENDING', 'ON', 'PROGRAMS', 'THAT', 'SUPPORT', 'EDUCATION', 'SCIENTIFIC', 'RESEARCH', 'INFRASTRUCTURE', 'PUBLIC', 'HEALTH', 'AND', 'ENVIRONMENTAL', 'PROTECTION', '“THE', 'TRUMP', 'ADMINISTRATION', 'HAS', 'ALREADY', 'BEEN', 'WILLING', 'TO', 'SAY', 'WE’RE', 'GOING', 'TO', 'INCREASE', 'NONDEFENSE', 'DISCRETIONARY', 'SPENDING', '', 'BY', 'ABOUT', '7', 'PERCENT’”', 'MEADOWS', 'CHAIRMAN', 'OF', 'THE', 'SMALL', 'BUT', 'INFLUENTIAL', 'HOUSE', 'FREEDOM', 'CAUCUS', 'SAID', 'ON', 'THE', 'PROGRAM', '“NOW', 'DEMOCRATS', 'ARE', 'SAYING', 'THAT’S', 'NOT', 'ENOUGH', 'WE', 'NEED', 'TO', 'GIVE', 'THE', 'GOVERNMENT', 'A', 'PAY', 'RAISE', 'OF', '10', 'TO', '11', 'PERCENT', 'FOR', 'A', 'FISCAL', 'CONSERVATIVE', 'I', 'DON’T', 'SEE', 'WHERE', 'THE', 'RATIONALE', 'IS', '', 'EVENTUALLY', 'YOU', 'RUN', 'OUT', 'OF', 'OTHER', 'PEOPLE’S', 'MONEY”', 'HE', 'SAID', 'MEADOWS', 'WAS', 'AMONG', 'REPUBLICANS', 'WHO', 'VOTED', 'IN', 'LATE', 'DECEMBER', 'FOR', 'THEIR', 'PARTY’S', 'DEBTFINANCED', 'TAX', 'OVERHAUL', 'WHICH', 'IS', 'EXPECTED', 'TO', 'BALLOON', 'THE', 'FEDERAL', 'BUDGET', 'DEFICIT', 'AND', 'ADD', 'ABOUT', '15', 'TRILLION', 'OVER', '10', 'YEARS', 'TO', 'THE', '20', 'TRILLION', 'NATIONAL', 'DEBT', '“IT’S', 'INTERESTING', 'TO', 'HEAR', 'MARK', 'TALK', 'ABOUT', 'FISCAL', 'RESPONSIBILITY”', 'DEMOCRATIC', 'US', 'REPRESENTATIVE', 'JOSEPH', 'CROWLEY', 'SAID', 'ON', 'CBS', 'CROWLEY', 'SAID', 'THE', 'REPUBLICAN', 'TAX', 'BILL', 'WOULD', 'REQUIRE', 'THE', '', 'UNITED', 'STATES', 'TO', 'BORROW', '15', 'TRILLION', 'TO', 'BE', 'PAID', 'OFF', 'BY', 'FUTURE', 'GENERATIONS', 'TO', 'FINANCE', 'TAX', 'CUTS', 'FOR', 'CORPORATIONS', 'AND', 'THE', 'RICH', '“THIS', 'IS', 'ONE', 'OF', 'THE', 'LEAST', '', 'FISCALLY', 'RESPONSIBLE', 'BILLS', 'WE’VE', 'EVER', 'SEEN', 'PASSED', 'IN', 'THE', 'HISTORY', 'OF', 'THE', 'HOUSE', 'OF', 'REPRESENTATIVES', 'I', 'THINK', 'WE’RE', 'GOING', 'TO', 'BE', 'PAYING', 'FOR', 'THIS', 'FOR', 'MANY', 'MANY', 'YEARS', 'TO', 'COME”', 'CROWLEY', 'SAID', 'REPUBLICANS', 'INSIST', 'THE', 'TAX', 'PACKAGE', 'THE', 'BIGGEST', 'US', 'TAX', 'OVERHAUL', 'IN', 'MORE', 'THAN', '30', 'YEARS', '', 'WILL', 'BOOST', 'THE', 'ECONOMY', 'AND', 'JOB', 'GROWTH', 'HOUSE', 'SPEAKER', 'PAUL', 'RYAN', 'WHO', 'ALSO', 'SUPPORTED', 'THE', 'TAX', 'BILL', 'RECENTLY', 'WENT', 'FURTHER', 'THAN', 'MEADOWS', 'MAKING', 'CLEAR', 'IN', 'A', 'RADIO', 'INTERVIEW', 'THAT', 'WELFARE', 'OR', '“ENTITLEMENT', 'REFORM”', 'AS', 'THE', 'PARTY', 'OFTEN', 'CALLS', 'IT', 'WOULD', 'BE', 'A', 'TOP', 'REPUBLICAN', 'PRIORITY', 'IN', '2018', 'IN', 'REPUBLICAN', 'PARLANCE', '“ENTITLEMENT”', 'PROGRAMS', 'MEAN', 'FOOD', 'STAMPS', 'HOUSING', 'ASSISTANCE', 'MEDICARE', 'AND', 'MEDICAID', 'HEALTH', 'INSURANCE', 'FOR', 'THE', 'ELDERLY', 'POOR', 'AND', 'DISABLED', 'AS', 'WELL', 'AS', 'OTHER', 'PROGRAMS', 'CREATED', 'BY', 'WASHINGTON', 'TO', 'ASSIST', 'THE', 'NEEDY', 'DEMOCRATS', 'SEIZED', 'ON', 'RYAN’S', 'EARLY', 'DECEMBER', 'REMARKS', 'SAYING', 'THEY', 'SHOWED', 'REPUBLICANS', 'WOULD', 'TRY', 'TO', 'PAY', 'FOR', 'THEIR', 'TAX', 'OVERHAUL', 'BY', 'SEEKING', 'SPENDING', 'CUTS', 'FOR', 'SOCIAL', 'PROGRAMS', 'BUT', 'THE', 'GOALS', 'OF', 'HOUSE', 'REPUBLICANS', 'MAY', 'HAVE', 'TO', 'TAKE', 'A', 'BACK', 'SEAT', 'TO', 'THE', 'SENATE', 'WHERE', 'THE', 'VOTES', 'OF', 'SOME', 'DEMOCRATS', 'WILL', 'BE', 'NEEDED', 'TO', 'APPROVE', 'A', 'BUDGET', 'AND', 'PREVENT', 'A', 'GOVERNMENT', 'SHUTDOWN', 'DEMOCRATS', 'WILL', 'USE', 'THEIR', 'LEVERAGE', 'IN', 'THE', 'SENATE', 'WHICH', 'REPUBLICANS', 'NARROWLY', 'CONTROL', 'TO', 'DEFEND', 'BOTH', 'DISCRETIONARY', 'NONDEFENSE', 'PROGRAMS', 'AND', 'SOCIAL', 'SPENDING', 'WHILE', 'TACKLING', 'THE', 'ISSUE', 'OF', 'THE', '“DREAMERS”', 'PEOPLE', 'BROUGHT', 'ILLEGALLY', 'TO', 'THE', 'COUNTRY', 'AS', 'CHILDREN', 'TRUMP', 'IN', 'SEPTEMBER', 'PUT', 'A', 'MARCH', '2018', 'EXPIRATION', 'DATE', 'ON', 'THE', 'DEFERRED', 'ACTION', 'FOR', 'CHILDHOOD', 'ARRIVALS', 'OR', 'DACA', 'PROGRAM', 'WHICH', 'PROTECTS', 'THE', 'YOUNG', 'IMMIGRANTS', 'FROM', 'DEPORTATION', 'AND', 'PROVIDES', 'THEM', 'WITH', 'WORK', 'PERMITS', 'THE', 'PRESIDENT', 'HAS', 'SAID', 'IN', 'RECENT', 'TWITTER', 'MESSAGES', 'HE', 'WANTS', 'FUNDING', 'FOR', 'HIS', 'PROPOSED', 'MEXICAN', 'BORDER', 'WALL', 'AND', 'OTHER', 'IMMIGRATION', 'LAW', 'CHANGES', 'IN', 'EXCHANGE', 'FOR', 'AGREEING', 'TO', 'HELP', 'THE', 'DREAMERS', 'REPRESENTATIVE', 'DEBBIE', 'DINGELL', 'TOLD', 'CBS', 'SHE', 'DID', 'NOT', 'FAVOR', 'LINKING', 'THAT', 'ISSUE', 'TO', 'OTHER', 'POLICY', 'OBJECTIVES', 'SUCH', 'AS', 'WALL', 'FUNDING', '“WE', 'NEED', 'TO', 'DO', 'DACA', 'CLEAN”', 'SHE', 'SAID', '', 'ON', 'WEDNESDAY', 'TRUMP', 'AIDES', 'WILL', 'MEET', 'WITH', 'CONGRESSIONAL', 'LEADERS', 'TO', 'DISCUSS', 'THOSE', 'ISSUES', 'THAT', 'WILL', 'BE', 'FOLLOWED', 'BY', 'A', 'WEEKEND', 'OF', 'STRATEGY', 'SESSIONS', 'FOR', 'TRUMP', 'AND', 'REPUBLICAN', 'LEADERS', 'ON', 'JAN', '6', 'AND', '7', 'THE', 'WHITE', 'HOUSE', 'SAID', 'TRUMP', 'WAS', 'ALSO', 'SCHEDULED', 'TO', 'MEET', 'ON', 'SUNDAY', 'WITH', 'FLORIDA', 'REPUBLICAN', 'GOVERNOR', 'RICK', 'SCOTT', 'WHO', 'WANTS', 'MORE', 'EMERGENCY', 'AID', 'THE', 'HOUSE', 'HAS', 'PASSED', 'AN', '81', 'BILLION', 'AID', 'PACKAGE', 'AFTER', 'HURRICANES', 'IN', 'FLORIDA', 'TEXAS', 'AND', 'PUERTO', 'RICO', 'AND', 'WILDFIRES', 'IN', 'CALIFORNIA', 'THE', 'PACKAGE', 'FAR', 'EXCEEDED', 'THE', '44', 'BILLION', 'REQUESTED', 'BY', 'THE', 'TRUMP', 'ADMINISTRATION', 'THE', 'SENATE', 'HAS', 'NOT', 'YET', 'VOTED', 'ON', 'THE', 'AID', '']\n"
     ]
    }
   ],
   "source": [
    "print(len(normalized_text))\n",
    "print(len(normalized_text[0]))\n",
    "print(normalized_text[0])"
   ]
  },
  {
   "cell_type": "markdown",
   "metadata": {},
   "source": [
    "## Train a model"
   ]
  },
  {
   "cell_type": "code",
   "execution_count": 12,
   "metadata": {},
   "outputs": [
    {
     "name": "stdout",
     "output_type": "stream",
     "text": [
      "Wall time: 1min 27s\n"
     ]
    }
   ],
   "source": [
    "%%time\n",
    "model = Word2Vec(sentences=normalized_text,window=5, min_count=5, workers=4, sg=0, vector_size=50)"
   ]
  },
  {
   "cell_type": "code",
   "execution_count": 13,
   "metadata": {},
   "outputs": [
    {
     "name": "stdout",
     "output_type": "stream",
     "text": [
      "[-1.9067411e+00 -8.9832079e-01  2.6235220e+00 -3.8264538e-03\n",
      "  3.2249527e+00  1.4797738e+00 -4.8710895e+00  1.2191887e+00\n",
      "  2.3660984e+00 -1.9463911e+00  9.8978823e-01  1.5990453e+00\n",
      " -3.8561707e+00 -3.0094001e+00 -4.0343466e+00  2.1044099e+00\n",
      "  2.4899176e-01  1.1922922e+00 -5.5971509e-01  1.9898549e+00\n",
      " -3.8528582e-01 -2.0008152e+00 -4.9984542e-01  1.8690343e+00\n",
      "  1.0885011e+00  1.5577263e+00  4.1443020e-01  1.9752356e+00\n",
      "  4.5212445e+00  1.6490085e-01  3.0535071e+00 -1.0814631e-01\n",
      " -3.6072447e+00  1.0095696e+00  2.9196641e-01  3.4748087e+00\n",
      " -4.1393204e+00 -5.3840059e-01  6.5629679e-01  3.7897651e+00\n",
      " -3.2155840e+00 -2.9179201e+00 -6.2225169e-01 -4.6314433e-01\n",
      "  2.5455520e+00  3.1122108e+00 -2.9443183e+00  1.1289601e-02\n",
      " -1.7330147e+00  2.9809160e+00]\n",
      "50\n"
     ]
    }
   ],
   "source": [
    "vector = model.wv['SUNDAY']\n",
    "print(vector)\n",
    "print(len(vector))"
   ]
  },
  {
   "cell_type": "code",
   "execution_count": 14,
   "metadata": {},
   "outputs": [
    {
     "data": {
      "text/plain": [
       "[('BATTLES', 0.7875083684921265),\n",
       " ('FIGHT', 0.7681348919868469),\n",
       " ('SHOWDOWN', 0.735325038433075),\n",
       " ('VICTORIES', 0.726337194442749),\n",
       " ('STRUGGLE', 0.7003146409988403),\n",
       " ('VICTORY', 0.687362015247345),\n",
       " ('FIGHTING', 0.6730808019638062),\n",
       " ('STANDOFF', 0.6728489398956299),\n",
       " ('STALEMATE', 0.6665518879890442),\n",
       " ('CLASH', 0.6653518676757812)]"
      ]
     },
     "execution_count": 14,
     "metadata": {},
     "output_type": "execute_result"
    }
   ],
   "source": [
    "model.wv.most_similar('BATTLE')"
   ]
  },
  {
   "cell_type": "code",
   "execution_count": 15,
   "metadata": {},
   "outputs": [
    {
     "data": {
      "text/plain": [
       "[('NAVARRO', 0.6067255735397339),\n",
       " ('FOREIGNPOLICY', 0.59322589635849),\n",
       " ('HAFTAR', 0.5874837636947632),\n",
       " ('STAUNCH', 0.5791856646537781),\n",
       " ('MCMASTER', 0.5782343745231628),\n",
       " ('SALVINI', 0.5775402188301086),\n",
       " ('ARTIFICIALLY', 0.5712288618087769),\n",
       " ('WARMER', 0.5560368299484253),\n",
       " ('“ECONOMIC', 0.5514177680015564),\n",
       " ('STERN', 0.5507020950317383)]"
      ]
     },
     "execution_count": 15,
     "metadata": {},
     "output_type": "execute_result"
    }
   ],
   "source": [
    "model.wv.most_similar(positive=[\"ORBAN\", \"INDIA\"], negative=[\"HUNGARY\"])"
   ]
  },
  {
   "cell_type": "code",
   "execution_count": 16,
   "metadata": {},
   "outputs": [
    {
     "data": {
      "text/plain": [
       "[('ROYALS', 0.6391028165817261),\n",
       " ('PILGRIMS', 0.5952345728874207),\n",
       " ('GRANDPARENTS', 0.5747456550598145),\n",
       " ('NEONAZIS', 0.569899320602417),\n",
       " ('POSTERS', 0.5516872406005859),\n",
       " ('ROBES', 0.5449544191360474),\n",
       " ('RELIGIONS', 0.5398785471916199),\n",
       " ('PRIESTS', 0.532697319984436),\n",
       " ('BISHOPS', 0.5297863483428955),\n",
       " ('SUPREMACISTS', 0.5276274681091309)]"
      ]
     },
     "execution_count": 16,
     "metadata": {},
     "output_type": "execute_result"
    }
   ],
   "source": [
    "model.wv.most_similar(positive=[\"KING\", \"WOMEN\"], negative=[\"MAN\"])"
   ]
  },
  {
   "cell_type": "code",
   "execution_count": 17,
   "metadata": {},
   "outputs": [
    {
     "data": {
      "text/plain": [
       "[('BERLIN', 0.74992835521698),\n",
       " ('VIENNA', 0.6727793216705322),\n",
       " ('BRUSSELSBERLIN', 0.6675971746444702),\n",
       " ('PHOTOGRAPHER', 0.6652414202690125),\n",
       " ('ROME', 0.6587948203086853),\n",
       " ('PRAGUE', 0.6456288695335388),\n",
       " ('ABIDJAN', 0.6426519751548767),\n",
       " ('LUXEMBOURGBRUSSELS', 0.6409493088722229),\n",
       " ('AMSTERDAM', 0.6381629705429077),\n",
       " ('HAMBURG', 0.637231707572937)]"
      ]
     },
     "execution_count": 17,
     "metadata": {},
     "output_type": "execute_result"
    }
   ],
   "source": [
    "model.wv.most_similar(positive=[\"BUDAPEST\", \"GERMANY\"], negative=[\"HUNGARY\"])"
   ]
  },
  {
   "cell_type": "markdown",
   "metadata": {},
   "source": [
    "<img src=\"https://wiki.pathmind.com/images/wiki/countries_capitals.png\" />"
   ]
  },
  {
   "cell_type": "code",
   "execution_count": 18,
   "metadata": {},
   "outputs": [
    {
     "data": {
      "text/plain": [
       "[('TENACIOUS', 0.5939256548881531),\n",
       " ('PHILANTHROPIC', 0.5661894679069519),\n",
       " ('MONK', 0.5495425462722778),\n",
       " ('ALTRIGHT', 0.545856237411499),\n",
       " ('KLAN', 0.544661283493042),\n",
       " ('TALENTED', 0.5380378365516663),\n",
       " ('VOLUNTEER', 0.5379571318626404),\n",
       " ('KLUX', 0.5343383550643921),\n",
       " ('CARITAS', 0.5335325002670288),\n",
       " ('DECORATED', 0.5334935188293457)]"
      ]
     },
     "execution_count": 18,
     "metadata": {},
     "output_type": "execute_result"
    }
   ],
   "source": [
    "model.wv.most_similar(positive=[\"CHRISTIAN\", \"INDIA\"], negative=[\"HUNGARY\"])"
   ]
  },
  {
   "cell_type": "code",
   "execution_count": 19,
   "metadata": {},
   "outputs": [
    {
     "data": {
      "text/plain": [
       "[('STOCKHOLM', 0.8197981119155884),\n",
       " ('AMSTERDAM', 0.8092988133430481),\n",
       " ('ABIDJAN', 0.7948126196861267),\n",
       " ('OSLO', 0.7946541905403137),\n",
       " ('VIENNA', 0.7791784405708313),\n",
       " ('DUBAI', 0.7779347896575928),\n",
       " ('PRAGUE', 0.7765228152275085),\n",
       " ('TUNIS', 0.7755611538887024),\n",
       " ('SOFIA', 0.7752211093902588),\n",
       " ('FRANKFURT', 0.7750216722488403)]"
      ]
     },
     "execution_count": 19,
     "metadata": {},
     "output_type": "execute_result"
    }
   ],
   "source": [
    "model.wv.most_similar(positive=[\"BUDAPEST\", \"SWEDEN\"], negative=[\"HUNGARY\"])"
   ]
  },
  {
   "cell_type": "code",
   "execution_count": 20,
   "metadata": {},
   "outputs": [
    {
     "data": {
      "text/plain": [
       "[('FIDESZ', 0.6897487640380859),\n",
       " ('DI', 0.6895610690116882),\n",
       " ('PD', 0.6725404858589172),\n",
       " ('MAIO', 0.6560743451118469),\n",
       " ('HUN', 0.6557586193084717),\n",
       " ('ROY', 0.6540956497192383),\n",
       " ('SEN', 0.6536914110183716),\n",
       " ('INCUMBENT', 0.6491606831550598),\n",
       " ('JAROSLAW', 0.6452605724334717),\n",
       " ('PSDB', 0.6439682841300964)]"
      ]
     },
     "execution_count": 20,
     "metadata": {},
     "output_type": "execute_result"
    }
   ],
   "source": [
    "model.wv.most_similar(positive=[\"RENZI\", \"HUNGARY\"], negative=[\"ITALY\"])"
   ]
  },
  {
   "cell_type": "code",
   "execution_count": 21,
   "metadata": {},
   "outputs": [
    {
     "data": {
      "text/plain": [
       "[('RAJOY', 0.6338270902633667),\n",
       " ('POLAND', 0.6195624470710754),\n",
       " ('MACRON', 0.6001372933387756),\n",
       " ('KURZ', 0.5855915546417236),\n",
       " ('SLOVAKIA', 0.5656859278678894),\n",
       " ('PUIGDEMONT', 0.5646109580993652),\n",
       " ('SOCIALISTS', 0.5605826377868652),\n",
       " ('ORBAN', 0.555915355682373),\n",
       " ('DUDA', 0.5476064085960388),\n",
       " ('PIS', 0.5464030504226685)]"
      ]
     },
     "execution_count": 21,
     "metadata": {},
     "output_type": "execute_result"
    }
   ],
   "source": [
    "model.wv.most_similar(positive=[\"MERKEL\", \"HUNGARY\"], negative=[\"GERMANY\"])"
   ]
  },
  {
   "cell_type": "code",
   "execution_count": 22,
   "metadata": {},
   "outputs": [
    {
     "data": {
      "text/plain": [
       "[('BOEING', 0.8678483366966248),\n",
       " ('RAYTHEON', 0.8532408475875854),\n",
       " ('LOCKHEED', 0.851770281791687),\n",
       " ('LMTN', 0.8123490214347839),\n",
       " ('F35', 0.8084467053413391),\n",
       " ('MONSANTO', 0.8045161366462708),\n",
       " ('EUROFIGHTER', 0.8039898872375488),\n",
       " ('SUBSIDIARY', 0.8032814860343933),\n",
       " ('MAKER', 0.7965288758277893),\n",
       " ('PLC', 0.7862170338630676)]"
      ]
     },
     "execution_count": 22,
     "metadata": {},
     "output_type": "execute_result"
    }
   ],
   "source": [
    "model.wv.most_similar(\"AIRBUS\")"
   ]
  },
  {
   "cell_type": "code",
   "execution_count": 23,
   "metadata": {},
   "outputs": [
    {
     "data": {
      "text/plain": [
       "[('HITLER', 0.6689705848693848),\n",
       " ('PRINCE', 0.6405212879180908),\n",
       " ('MAHATHIR', 0.6069321036338806),\n",
       " ('SALMAN', 0.6027142405509949),\n",
       " ('ALHARIRI', 0.5961851477622986),\n",
       " ('MELANIA', 0.5945670008659363),\n",
       " ('ABDULLAH', 0.5896612405776978),\n",
       " ('THIEL', 0.5840188264846802),\n",
       " ('POPE', 0.578804612159729),\n",
       " ('RAFIK', 0.5778992176055908)]"
      ]
     },
     "execution_count": 23,
     "metadata": {},
     "output_type": "execute_result"
    }
   ],
   "source": [
    "model.wv.most_similar(positive=[\"KING\", \"WOMEN\"], negative=[\"MEN\"])"
   ]
  },
  {
   "cell_type": "code",
   "execution_count": 24,
   "metadata": {},
   "outputs": [
    {
     "data": {
      "text/plain": [
       "[('STRAIT', 0.5855531096458435),\n",
       " ('TAIWAN', 0.5678710341453552),\n",
       " ('VIETNAM', 0.5555925965309143),\n",
       " ('PHILIPPINES', 0.5542020201683044),\n",
       " ('MALAYSIA', 0.5502133369445801),\n",
       " ('INDIA', 0.5328783988952637),\n",
       " ('TIBET', 0.5304670333862305),\n",
       " ('CRIMEAN', 0.507620632648468),\n",
       " ('KOREAN', 0.5063412189483643),\n",
       " ('HEADS”', 0.5017685890197754)]"
      ]
     },
     "execution_count": 24,
     "metadata": {},
     "output_type": "execute_result"
    }
   ],
   "source": [
    "model.wv.most_similar(positive=[\"SEA\"], negative=[\"SALT\"])"
   ]
  },
  {
   "cell_type": "markdown",
   "metadata": {},
   "source": [
    "## Save and load models"
   ]
  },
  {
   "cell_type": "code",
   "execution_count": 25,
   "metadata": {},
   "outputs": [],
   "source": [
    "model.save('news_w2v.model')"
   ]
  },
  {
   "cell_type": "code",
   "execution_count": 26,
   "metadata": {},
   "outputs": [],
   "source": [
    "model = Word2Vec.load('news_w2v.model')"
   ]
  },
  {
   "cell_type": "markdown",
   "metadata": {},
   "source": [
    "## Load preinstalled models"
   ]
  },
  {
   "cell_type": "code",
   "execution_count": 27,
   "metadata": {},
   "outputs": [
    {
     "name": "stdout",
     "output_type": "stream",
     "text": [
      "['fasttext-wiki-news-subwords-300', 'conceptnet-numberbatch-17-06-300', 'word2vec-ruscorpora-300', 'word2vec-google-news-300', 'glove-wiki-gigaword-50', 'glove-wiki-gigaword-100', 'glove-wiki-gigaword-200', 'glove-wiki-gigaword-300', 'glove-twitter-25', 'glove-twitter-50', 'glove-twitter-100', 'glove-twitter-200', '__testing_word2vec-matrix-synopsis']\n"
     ]
    }
   ],
   "source": [
    "print(list(gensim.downloader.info()['models'].keys()))"
   ]
  },
  {
   "cell_type": "code",
   "execution_count": 28,
   "metadata": {},
   "outputs": [
    {
     "name": "stdout",
     "output_type": "stream",
     "text": [
      "Wall time: 2min 46s\n"
     ]
    }
   ],
   "source": [
    "%%time\n",
    "glove_vectors = gensim.downloader.load('glove-twitter-25')"
   ]
  },
  {
   "cell_type": "code",
   "execution_count": 29,
   "metadata": {},
   "outputs": [
    {
     "data": {
      "text/plain": [
       "[('facebook', 0.948005199432373),\n",
       " ('tweet', 0.9403423070907593),\n",
       " ('fb', 0.9342359900474548),\n",
       " ('instagram', 0.9104824066162109),\n",
       " ('chat', 0.8964964747428894),\n",
       " ('hashtag', 0.8885937333106995),\n",
       " ('tweets', 0.8878158330917358),\n",
       " ('tl', 0.8778461217880249),\n",
       " ('link', 0.8778210878372192),\n",
       " ('internet', 0.8753897547721863)]"
      ]
     },
     "execution_count": 29,
     "metadata": {},
     "output_type": "execute_result"
    }
   ],
   "source": [
    "glove_vectors.most_similar('twitter')"
   ]
  },
  {
   "cell_type": "code",
   "execution_count": 30,
   "metadata": {},
   "outputs": [
    {
     "data": {
      "text/plain": [
       "[('morocco', 0.9231677651405334),\n",
       " ('finland', 0.9118973016738892),\n",
       " ('switzerland', 0.9015686511993408),\n",
       " ('croatia', 0.8877788186073303),\n",
       " ('slovenia', 0.8867576122283936),\n",
       " ('lithuania', 0.8779863119125366),\n",
       " ('azerbaijan', 0.8766520619392395),\n",
       " ('norway', 0.875383734703064),\n",
       " ('belarus', 0.874091386795044),\n",
       " ('albania', 0.87166428565979)]"
      ]
     },
     "execution_count": 30,
     "metadata": {},
     "output_type": "execute_result"
    }
   ],
   "source": [
    "glove_vectors.most_similar('hungary')"
   ]
  },
  {
   "cell_type": "markdown",
   "metadata": {},
   "source": [
    "## Create WordCloud"
   ]
  },
  {
   "cell_type": "code",
   "execution_count": 31,
   "metadata": {},
   "outputs": [
    {
     "data": {
      "image/png": "[encoded data removed]",
      "text/plain": [
       "<Figure size 720x576 with 1 Axes>"
      ]
     },
     "metadata": {
      "needs_background": "light"
     },
     "output_type": "display_data"
    }
   ],
   "source": [
    "text = model.wv.most_similar('EUROPE')\n",
    "text_tmp = []\n",
    "for i in text:\n",
    "    text_tmp.append(i[0])\n",
    "\n",
    "text_tmp = str(text_tmp)\n",
    "\n",
    "text_tmp = re.sub('[-=+,#/\\?:^$.@*\\\"※~&%ㆍ!』\\\\‘|\\(\\)\\[\\]\\<\\>`\\'…》]', '', text_tmp)\n",
    "\n",
    "from wordcloud import WordCloud\n",
    "import matplotlib.pyplot as plt\n",
    "%matplotlib inline\n",
    "\n",
    "wc1 = WordCloud(max_font_size=200,background_color='white', stopwords='\\\\',width=800, height=800)\n",
    "wc1.generate(text_tmp)\n",
    "\n",
    "plt.figure(figsize=(10, 8))\n",
    "plt.imshow(wc1)\n",
    "plt.tight_layout(pad=0)\n",
    "plt.axis('off')\n",
    "plt.show()"
   ]
  }
 ],
 "metadata": {
  "kernelspec": {
   "display_name": "Python 3",
   "language": "python",
   "name": "python3"
  },
  "language_info": {
   "codemirror_mode": {
    "name": "ipython",
    "version": 3
   },
   "file_extension": ".py",
   "mimetype": "text/x-python",
   "name": "python",
   "nbconvert_exporter": "python",
   "pygments_lexer": "ipython3",
   "version": "3.7.4"
  }
 },
 "nbformat": 4,
 "nbformat_minor": 2
}
