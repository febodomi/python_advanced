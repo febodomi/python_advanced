{
 "cells": [
  {
   "cell_type": "code",
   "execution_count": null,
   "metadata": {},
   "outputs": [],
   "source": [
    "# minimális importálás\n",
    "from mypackage.module_1 import hello\n",
    "hello('Domonkos')"
   ]
  },
  {
   "cell_type": "code",
   "execution_count": null,
   "metadata": {},
   "outputs": [],
   "source": [
    "# welcome nem lett importálva\n",
    "from mypackage.module_1 import hello\n",
    "hello('Domonkos')\n",
    "welcome('Domonkos')"
   ]
  },
  {
   "cell_type": "code",
   "execution_count": null,
   "metadata": {},
   "outputs": [],
   "source": [
    "# teljes modul importálása, de rossz hivatkozás\n",
    "import mypackage.module_1\n",
    "hello('Domonkos')\n",
    "welcome('Domonkos')"
   ]
  },
  {
   "cell_type": "code",
   "execution_count": null,
   "metadata": {},
   "outputs": [],
   "source": [
    "# teljes modul importálása, jó hivatkozással\n",
    "import mypackage.module_1\n",
    "mypackage.module_1.hello('Domonkos')\n",
    "mypackage.module_1.welcome('Domonkos')"
   ]
  },
  {
   "cell_type": "code",
   "execution_count": null,
   "metadata": {},
   "outputs": [],
   "source": [
    "from mypackage.module_2 import nextbus\n",
    "nextbus()"
   ]
  },
  {
   "cell_type": "code",
   "execution_count": null,
   "metadata": {},
   "outputs": [],
   "source": [
    "import mypackage.module_2\n",
    "mypackage.module_2.nextbus()"
   ]
  },
  {
   "cell_type": "code",
   "execution_count": null,
   "metadata": {},
   "outputs": [],
   "source": [
    "import importlib\n",
    "importlib.reload(mypackage)"
   ]
  },
  {
   "cell_type": "code",
   "execution_count": null,
   "metadata": {},
   "outputs": [],
   "source": [
    "# __init__.py file nelkul\n",
    "import mypackage\n",
    "\n",
    "mypackage.module_1.hello('Domonkos')\n",
    "mypackage.module_1.goodbye('Domonkos')\n",
    "mypackage.module_1.welcome('Domonkos')\n",
    "mypackage.module_2.nextbus()"
   ]
  },
  {
   "cell_type": "code",
   "execution_count": null,
   "metadata": {},
   "outputs": [],
   "source": [
    "# kitöltött __init__.py\n",
    "# from .moduleA import *\n",
    "# from .moduleB import *\n",
    "\n",
    "import mypackage\n",
    "\n",
    "mypackage.moduleA.hello('Domonkos')\n",
    "mypackage.moduleA.goodbye('Domonkos')\n",
    "mypackage.moduleA.welcome('Domonkos')\n",
    "mypackage.moduleB.nextbus()"
   ]
  },
  {
   "cell_type": "code",
   "execution_count": null,
   "metadata": {},
   "outputs": [],
   "source": [
    "# kitöltött __init__.py\n",
    "# from .moduleA import *\n",
    "# from .moduleB import *\n",
    "\n",
    "import mypackage\n",
    "\n",
    "mypackage.hello('Domonkos')\n",
    "mypackage.goodbye('Domonkos')\n",
    "mypackage.welcome('Domonkos')\n",
    "mypackage.nextbus()"
   ]
  },
  {
   "cell_type": "code",
   "execution_count": null,
   "metadata": {},
   "outputs": [],
   "source": [
    "# kitöltött __init__.py\n",
    "# from .moduleA import welcome\n",
    "# from .moduleB import *\n",
    "\n",
    "import mypackage\n",
    "\n",
    "mypackage.moduleA.hello('Domonkos')\n",
    "mypackage.moduleA.goodbye('Domonkos')\n",
    "mypackage.moduleA.welcome('Domonkos')\n",
    "mypackage.moduleB.nextbus()\n",
    "\n",
    "mypackage.welcome('Domonkos')\n",
    "mypackage.nextbus()\n",
    "\n",
    "mypackage.hello('Domonkos')\n",
    "mypackage.goodbye('Domonkos')\n"
   ]
  },
  {
   "cell_type": "code",
   "execution_count": null,
   "metadata": {},
   "outputs": [],
   "source": [
    "# kitöltött __init__.py\n",
    "# from .moduleA import *\n",
    "# from .moduleB import *\n",
    "# from .year import *\n",
    "\n",
    "import mypackage\n",
    "\n",
    "mypackage.hello('Domonkos')\n",
    "mypackage.welcome('Domonkos')\n",
    "mypackage.goodbye('Domonkos')\n",
    "mypackage.moduleB.nextbus()\n",
    "mypackage.year"
   ]
  },
  {
   "cell_type": "code",
   "execution_count": 1,
   "metadata": {},
   "outputs": [
    {
     "data": {
      "text/plain": [
       "'C:\\\\ProgramData\\\\Anaconda3\\\\lib\\\\site-packages\\\\pandas\\\\__init__.py'"
      ]
     },
     "execution_count": 1,
     "metadata": {},
     "output_type": "execute_result"
    }
   ],
   "source": [
    "import pandas\n",
    "pandas.__file__"
   ]
  },
  {
   "cell_type": "code",
   "execution_count": null,
   "metadata": {},
   "outputs": [],
   "source": []
  }
 ],
 "metadata": {
  "kernelspec": {
   "display_name": "Python 3",
   "language": "python",
   "name": "python3"
  },
  "language_info": {
   "codemirror_mode": {
    "name": "ipython",
    "version": 3
   },
   "file_extension": ".py",
   "mimetype": "text/x-python",
   "name": "python",
   "nbconvert_exporter": "python",
   "pygments_lexer": "ipython3",
   "version": "3.7.4"
  }
 },
 "nbformat": 4,
 "nbformat_minor": 2
}
